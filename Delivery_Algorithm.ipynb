{
  "nbformat": 4,
  "nbformat_minor": 0,
  "metadata": {
    "colab": {
      "provenance": [],
      "include_colab_link": true
    },
    "kernelspec": {
      "name": "python3",
      "display_name": "Python 3"
    },
    "language_info": {
      "name": "python"
    }
  },
  "cells": [
    {
      "cell_type": "markdown",
      "metadata": {
        "id": "view-in-github",
        "colab_type": "text"
      },
      "source": [
        "<a href=\"https://colab.research.google.com/github/EdonMars/edoardonati.github.io/blob/main/Delivery_Algorithm.ipynb\" target=\"_parent\"><img src=\"https://colab.research.google.com/assets/colab-badge.svg\" alt=\"Open In Colab\"/></a>"
      ]
    },
    {
      "cell_type": "markdown",
      "source": [
        "# **VARIABILI INIZIALI**"
      ],
      "metadata": {
        "id": "nhhgW96zzQXB"
      }
    },
    {
      "cell_type": "code",
      "source": [
        "# Numero di ristoranti\n",
        "num_restaurants = 5\n",
        "\n",
        "# Numero di punti di consegna\n",
        "num_delivery_points = 7\n",
        "\n",
        "# Area massima di distribuzione dei ristoranti\n",
        "max_area_rest = 800\n",
        "\n",
        "# Area massima di distribuzione delle consegne\n",
        "max_area_del = 1500\n",
        "\n",
        "# Distanza minima tra i punti di consegna\n",
        "min_distance_del = 200\n",
        "\n",
        "#Velocità media del fattorino in Km/H\n",
        "velocita_media_kmh = 15\n",
        "\n"
      ],
      "metadata": {
        "id": "tXhF4mu1zQBL"
      },
      "execution_count": null,
      "outputs": []
    },
    {
      "cell_type": "markdown",
      "source": [
        "**GENERAZIONE DEI RISTORANTI E CALCOLO DEL PERCORSO PIU' EFFICIENTE DA SEGUIRE PER RACCOGLIERE IL CIBO**"
      ],
      "metadata": {
        "id": "0vhHnxqUp4_Q"
      }
    },
    {
      "cell_type": "code",
      "execution_count": null,
      "metadata": {
        "id": "XHzc01wep0fs"
      },
      "outputs": [],
      "source": [
        "import itertools\n",
        "import random\n",
        "import math\n",
        "from math import sqrt\n",
        "\n",
        "# Coordinate casuali dei ristoranti nell'area di raccolta in metri quadrati\n",
        "restaurants_coords = [(random.uniform(0, max_area_rest), random.uniform(0, max_area_rest)) for i in range(num_restaurants)]\n",
        "\n",
        "# Calcola le coordinate del punto centrale\n",
        "x_center = sum(coord[0] for coord in restaurants_coords) / num_restaurants\n",
        "y_center = sum(coord[1] for coord in restaurants_coords) / num_restaurants\n",
        "center = (x_center, y_center)\n",
        "\n",
        "# Calcola la distanza di ogni ristorante dal punto centrale\n",
        "distances = [round(math.sqrt((coord[0]-x_center)**2 + (coord[1]-y_center)**2),2) for coord in restaurants_coords]"
      ]
    },
    {
      "cell_type": "markdown",
      "source": [
        "**GENERA LE COORDINATE DEI PUNTI DI CONSEGNA**"
      ],
      "metadata": {
        "id": "_Wqr8mIVqwmk"
      }
    },
    {
      "cell_type": "code",
      "source": [
        "# Coordinate casuali dei punti di consegna nell'area di consegna in metri quadrati\n",
        "delivery_points_coords = [(random.uniform(0, max_area_del), random.uniform(0, max_area_del)) for i in range(num_delivery_points)]\n",
        "\n",
        "# Verifica che la distanza tra i punti di consegna sia maggiore della distanza minima in metri\n",
        "\n",
        "while True:\n",
        "    too_close = False\n",
        "    for i in range(num_delivery_points):\n",
        "        for j in range(i + 1, num_delivery_points):\n",
        "            dist = ((delivery_points_coords[i][0]-delivery_points_coords[j][0])**2 + (delivery_points_coords[i][1]-delivery_points_coords[j][1])**2)**0.5\n",
        "            if dist < min_distance_del:\n",
        "                too_close = True\n",
        "                # Ricostruzione delle coordinate casuali\n",
        "                delivery_points_coords = [(random.uniform(0, max_area_del), random.uniform(0, max_area_del)) for i in range(num_delivery_points)]\n",
        "                break\n",
        "        if too_close:\n",
        "            break\n",
        "    if not too_close:\n",
        "        break"
      ],
      "metadata": {
        "id": "qsv2oOuxqcDP"
      },
      "execution_count": null,
      "outputs": []
    },
    {
      "cell_type": "markdown",
      "source": [
        "**DEFINISCO CINQUE FUNZIONI, TRE (NEAREST_NEIGHBOR, DISTANCE E CALCULATE_DISTANCE_FROM_MATRIX) CHE VENGONO UTILIZZATE NELLA FUNZIONE PRINCIPALE, TSP, CHE CALCOLA IL PERCORSO PIU' BREVE DAL PUNTO DI PARTENZA START. LA FUNZIONE USA LA FORZA BRUTA PER IL CALCOLO SU PERCORSI CON 10 TAPPE O MENO, MENTRE USA IL NEAREST_NEIGHBOR PER PERCORSI PIU' LUNGHI PER OTTIMIZZARE IL TEMPO DI CALCOLO. TROVA_COORD_PIU_VICINA SERVE INVECE PER CALCOLARE SUCCESSIVAMENTE IL TEMPO DI RITORNO**"
      ],
      "metadata": {
        "id": "pvS_tX0czNM_"
      }
    },
    {
      "cell_type": "code",
      "source": [
        "def trova_coord_piu_vicina(coord_list, coord_tupla):\n",
        "    \"\"\"\n",
        "    Trova l'elemento della lista di coordinate che ha la distanza più breve dalla tupla di coordinate data.\n",
        "    :param coord_list: lista di coordinate in formato [(x1,y1), (x2,y2), ...]\n",
        "    :param coord_tupla: tupla di coordinate in formato (x,y)\n",
        "    :return: la coordinata più vicina alla tupla data\n",
        "    \"\"\"\n",
        "    distanza_minima = float('inf')\n",
        "    coord_piu_vicina = None\n",
        "    for coord in coord_list:\n",
        "        distanza = sqrt((coord[0] - coord_tupla[0])**2 + (coord[1] - coord_tupla[1])**2)\n",
        "        if distanza < distanza_minima:\n",
        "            distanza_minima = distanza\n",
        "            coord_piu_vicina = coord\n",
        "    return coord_piu_vicina\n",
        "\n",
        "\n",
        "\n",
        "\n",
        "def distance(coord1, coord2):\n",
        "    \"\"\"\n",
        "    Calcola la distanza euclidea tra due coordinate.\n",
        "\n",
        "    :param coord1: la prima coordinata\n",
        "    :param coord2: la seconda coordinata\n",
        "    :return: la distanza tra le due coordinate\n",
        "    \"\"\"\n",
        "    return ((coord1[0] - coord2[0]) ** 2 + (coord1[1] - coord2[1]) ** 2) ** 0.5\n",
        "\n",
        "\n",
        "\n",
        "def nearest_neighbor(dist_matrix):\n",
        "    \"\"\"\n",
        "    Applica l'algoritmo del nearest neighbor per trovare un percorso che visita tutti i nodi una sola volta.\n",
        "\n",
        "    :param dist_matrix: la matrice delle distanze tra i nodi\n",
        "    :param start: il nodo di partenza\n",
        "    :return: un percorso che visita tutti i nodi una sola volta (come lista di punti)\n",
        "    \"\"\"\n",
        "    num_nodes = len(dist_matrix)\n",
        "    visited = [False] * num_nodes\n",
        "    visited[0] = True\n",
        "    path = [0]\n",
        "    current_node = 0\n",
        "    while len(path) < num_nodes:\n",
        "        min_distance = float('inf')\n",
        "        min_node = None\n",
        "        for i in range(num_nodes):\n",
        "            if not visited[i] and dist_matrix[current_node][i] < min_distance:\n",
        "                min_distance = dist_matrix[current_node][i]\n",
        "                min_node = i\n",
        "        visited[min_node] = True\n",
        "        path.append(min_node)\n",
        "        current_node = min_node\n",
        "    return path\n",
        "\n",
        "\n",
        "\n",
        "def calculate_distances_from_matrix(dist_matrix, path):\n",
        "    # Crea la lista delle distanze tra i punti del percorso\n",
        "    path_distances = []\n",
        "    for i in range(len(path) - 1):\n",
        "        distance = dist_matrix[path[i]][path[i+1]]\n",
        "        path_distances.append(distance)\n",
        "\n",
        "    return path_distances\n",
        "\n",
        "\n",
        "\n",
        "def tsp(coords_list, start):\n",
        "    \"\"\"\n",
        "    Trova il percorso ottimo per visitare tutti i punti indicati nella matrice delle distanze, date una lista di coordinate ed un punto di partenza esterno alla lista.\n",
        "\n",
        "    :param coords_list: lista delle coordinate dei punti\n",
        "    :param start: punto di partenza, esterno alla lista\n",
        "    :return: il percorso ottimo e la distanza tra i vari punti del percorso\n",
        "    \"\"\"\n",
        "\n",
        "    coords_and_start = [start] + coords_list\n",
        "\n",
        "    num_points = len(coords_and_start)\n",
        "\n",
        "    # Calcolo della matrice delle distanze\n",
        "    dist_matrix = [[distance(coords_and_start[i], coords_and_start[j]) for j in range(num_points)] for i in range(num_points)]\n",
        "\n",
        "    if num_points > 10:\n",
        "        # Nearest neighbor\n",
        "        path = nearest_neighbor(dist_matrix)\n",
        "\n",
        "    else:\n",
        "        # Calcolo di tutti i possibili percorsi\n",
        "        all_paths = itertools.permutations(range(num_points))\n",
        "\n",
        "\n",
        "        # Calcolo della lunghezza di tutti i possibili percorsi\n",
        "        all_paths_lengths = {}\n",
        "        \n",
        "        for path in all_paths:\n",
        "            if coords_and_start[path[0]] == start:\n",
        "                path_length = sum(dist_matrix[path[i]][path[i + 1]] for i in range(num_points - 1))\n",
        "                all_paths_lengths[path] = path_length\n",
        "\n",
        "        # Trovare il percorso più breve\n",
        "        shortest_path = min(all_paths_lengths, key=all_paths_lengths.get)\n",
        "        path = list(shortest_path)\n",
        "\n",
        "    path_distances = calculate_distances_from_matrix(dist_matrix, path)\n",
        "\n",
        "    return path, path_distances"
      ],
      "metadata": {
        "id": "GeKeEGwSvKVw"
      },
      "execution_count": null,
      "outputs": []
    },
    {
      "cell_type": "code",
      "source": [
        "def random_delivery_time():\n",
        "    r = random.random()\n",
        "    if r < 0.95:\n",
        "        return random.randint(120, 180)\n",
        "    else:\n",
        "        return random.randint(240, 300)\n",
        "\n",
        "def random_pickup_time():\n",
        "    r = random.random()\n",
        "    if r < 0.95:\n",
        "        return random.randint(60, 120)\n",
        "    else:\n",
        "        return random.randint(180, 240)\n",
        "\n",
        "\n",
        "\n",
        "\n",
        "# velocità media in m/s\n",
        "velocita_media_ms = (velocita_media_kmh * 1000 / 3600)\n",
        "\n",
        "# lista delle distanze in metri tra ristoranti\n",
        "distanze_rest = tsp(restaurants_coords, center)[1]\n",
        "\n",
        "# coordinate dell'ultimo ristorante\n",
        "ultimo_pickup = restaurants_coords[tsp(restaurants_coords, center)[0][len(restaurants_coords)]-1]\n",
        "\n",
        "# lista delle distanze in metri tra delivery points\n",
        "distanze_del = tsp(delivery_points_coords, ultimo_pickup)[1]\n",
        "\n",
        "# ultimo punto di delivery, ristorante più vicino all'ultimo punto e distanza tra i due punti\n",
        "ultimo_delivery = delivery_points_coords[tsp(delivery_points_coords, center)[0][len(delivery_points_coords)]-1]\n",
        "rest_piu_vicino = trova_coord_piu_vicina(restaurants_coords, ultimo_delivery)\n",
        "distanza_ritorno = distance(ultimo_delivery, rest_piu_vicino)\n",
        "\n",
        "# calcolo del tempo per ogni tratto tra i ristoranti\n",
        "tempi_pickup = [distanza * (1 / velocita_media_ms) for distanza in distanze_rest]\n",
        "\n",
        "# calcolo del tempo per ogni tratto tra i delivery points\n",
        "tempi_delivery = [distanza * (1 / velocita_media_ms) for distanza in distanze_del]\n",
        "\n",
        "# aggiunta del tempo di consegna/ritiro per ogni tratto\n",
        "tempi_totali_pickup = [tempo + random_pickup_time() for tempo in tempi_pickup]\n",
        "tempi_totali_delivery = [tempo + random_delivery_time() for tempo in tempi_delivery]\n",
        "\n",
        "# somma dei tempi totali\n",
        "tempo_totale_pickup = sum(tempi_totali_pickup)\n",
        "tempo_totale_delivery = sum(tempi_totali_delivery)\n",
        "tempo_ritorno = distanza_ritorno * (1 / velocita_media_ms)\n",
        "tempo_giro_completo = tempo_totale_pickup + tempo_totale_delivery + tempo_ritorno\n",
        "\n",
        "\n",
        "minuti, secondi = divmod(tempo_totale_pickup, 60)\n",
        "print(f\"Tempo totale pick up: {int(minuti)} minuti e {int(secondi)} secondi\")\n",
        "\n",
        "minuti, secondi = divmod(tempo_totale_delivery, 60)\n",
        "print(f\"Tempo totale delivery: {int(minuti)} minuti e {int(secondi)} secondi\")\n",
        "\n",
        "minuti, secondi = divmod(tempo_ritorno, 60)\n",
        "print(f\"Tempo totale ritorno: {int(minuti)} minuti e {int(secondi)} secondi\")\n",
        "\n",
        "minuti, secondi = divmod(tempo_giro_completo, 60)\n",
        "print(f\"Tempo totale del giro: {int(minuti)} minuti e {int(secondi)} secondi\")"
      ],
      "metadata": {
        "colab": {
          "base_uri": "https://localhost:8080/"
        },
        "id": "csArKjxkxQ_N",
        "outputId": "7bdf1435-f19f-4b7c-a079-7098c558b67b"
      },
      "execution_count": null,
      "outputs": [
        {
          "output_type": "stream",
          "name": "stdout",
          "text": [
            "Tempo totale pick up: 13 minuti e 31 secondi\n",
            "Tempo totale delivery: 31 minuti e 27 secondi\n",
            "Tempo totale ritorno: 2 minuti e 45 secondi\n",
            "Tempo totale del giro: 47 minuti e 44 secondi\n"
          ]
        }
      ]
    }
  ]
}